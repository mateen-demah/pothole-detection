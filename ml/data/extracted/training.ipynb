{
 "cells": [
  {
   "cell_type": "code",
   "execution_count": 127,
   "metadata": {},
   "outputs": [],
   "source": [
    "import csv\n",
    "from os import listdir\n",
    "import numpy as np\n",
    "import pandas as pd\n",
    "import tensorflow as tf\n",
    "from keras.models import Sequential\n",
    "from keras.layers import Dense\n",
    "from numpy.random import shuffle\n",
    "from sklearn.metrics import accuracy_score, precision_score, recall_score, f1_score"
   ]
  },
  {
   "cell_type": "code",
   "execution_count": 4,
   "metadata": {},
   "outputs": [
    {
     "name": "stdout",
     "output_type": "stream",
     "text": [
      "<class 'str'>\n",
      "<class 'float'>\n"
     ]
    }
   ],
   "source": [
    "with open(\"real1.csv\", 'r', newline='') as f:\n",
    "    data = csv.reader(f, quoting=csv.QUOTE_NONNUMERIC)\n",
    "    l = list(data)"
   ]
  },
  {
   "cell_type": "code",
   "execution_count": 164,
   "metadata": {},
   "outputs": [
    {
     "name": "stdout",
     "output_type": "stream",
     "text": [
      "(762, 29) (85, 29)\n"
     ]
    }
   ],
   "source": [
    "data = np.array(l[1:])\n",
    "data = data[:,3:]\n",
    "\n",
    "xmin = np.min(data[:,:-1])\n",
    "data[:,:-1] += abs(xmin)\n",
    "\n",
    "xmean = data[:,:-1].mean(axis=0)\n",
    "data[:,:-1] -= xmean\n",
    "\n",
    "\n",
    "xstd = data[:,:-1].std(axis=0)\n",
    "data[:,:-1] /= xstd\n",
    "\n",
    "# copied = [[0.466384339, -0.267298222, -0.02204628, -0.072082096, -0.159924522, -0.014905113, 4.809522057, 0.949521995, 0.662669756, 0.71915508, 0.237417474, 0.221459809, 0.202881433, 1.557158332, 1.776452303, 0.484781265, 1.01849556, 0.288939267, 0.0, 0.282219738, 7.249925137, -1.056436539, -1.222773075, -1.125705719, -0.406836241, -0.563217759, -0.356745303, 2.326071739]]\n",
    "shuffle(data)\n",
    "indices_or_sections = [int(0.9 * len(data))]\n",
    "\n",
    "train_ds, test_ds = np.split(data, indices_or_sections)\n",
    "print(train_ds.shape, test_ds.shape)\n",
    "# x = np.append(x, copied, axis=0)\n",
    "# y = np.append(y, 1)\n",
    "# print(y.shape)"
   ]
  },
  {
   "cell_type": "code",
   "execution_count": 157,
   "metadata": {},
   "outputs": [
    {
     "name": "stdout",
     "output_type": "stream",
     "text": [
      "(762, 28) (762,)\n",
      "762\n"
     ]
    }
   ],
   "source": [
    "xmin = np.min(x)\n",
    "x += abs(xmin)\n",
    "\n",
    "xmean = x.mean(axis=0)\n",
    "x -= xmean\n",
    "\n",
    "\n",
    "xstd = x.std(axis=0)\n",
    "x /= xstd\n",
    "print(x.shape, y.shape)"
   ]
  },
  {
   "cell_type": "code",
   "execution_count": 165,
   "metadata": {},
   "outputs": [
    {
     "name": "stdout",
     "output_type": "stream",
     "text": [
      "(None, 28)\n",
      "(None, 1)\n"
     ]
    }
   ],
   "source": [
    "model = Sequential()\n",
    "model.add(Dense(8, activation='relu', input_shape=(np.shape(x)[1],)))\n",
    "model.add(Dense(4, activation='relu'))\n",
    "model.add(Dense(1, activation='sigmoid'))\n",
    "print(model.input_shape)\n",
    "print(model.output_shape)"
   ]
  },
  {
   "cell_type": "code",
   "execution_count": 168,
   "metadata": {},
   "outputs": [
    {
     "name": "stdout",
     "output_type": "stream",
     "text": [
      "451\n",
      "27/27 [==============================] - 0s 886us/step\n",
      "accuracy: 0.9905548996458088\n",
      "precision: 0.8\n",
      "recall: 0.8\n",
      "f score: 0.8000000000000002\n",
      "a  p\n",
      "0.0  [1.]\n",
      "1.0  [0.]\n",
      "0.0  [1.]\n",
      "1.0  [0.]\n",
      "0.0  [1.]\n",
      "1.0  [0.]\n",
      "0.0  [1.]\n",
      "1.0  [0.]\n",
      "\n",
      "\n",
      "461\n",
      "27/27 [==============================] - 0s 2ms/step\n",
      "accuracy: 0.9964580873671782\n",
      "precision: 0.9473684210526315\n",
      "recall: 0.9\n",
      "f score: 0.9230769230769231\n",
      "a  p\n",
      "1.0  [0.]\n",
      "0.0  [1.]\n",
      "1.0  [0.]\n",
      "\n",
      "\n",
      "471\n",
      "27/27 [==============================] - 0s 1ms/step\n",
      "accuracy: 0.9952774498229043\n",
      "precision: 1.0\n",
      "recall: 0.8\n",
      "f score: 0.888888888888889\n",
      "a  p\n",
      "1.0  [0.]\n",
      "1.0  [0.]\n",
      "1.0  [0.]\n",
      "1.0  [0.]\n",
      "\n",
      "\n",
      "481\n",
      "27/27 [==============================] - 0s 886us/step\n",
      "accuracy: 0.9929161747343566\n",
      "precision: 0.9375\n",
      "recall: 0.75\n",
      "f score: 0.8333333333333334\n",
      "a  p\n",
      "0.0  [1.]\n",
      "1.0  [0.]\n",
      "1.0  [0.]\n",
      "1.0  [0.]\n",
      "1.0  [0.]\n",
      "1.0  [0.]\n",
      "\n",
      "\n",
      "491\n",
      "27/27 [==============================] - 0s 1ms/step\n",
      "accuracy: 0.9929161747343566\n",
      "precision: 0.85\n",
      "recall: 0.85\n",
      "f score: 0.85\n",
      "a  p\n",
      "0.0  [1.]\n",
      "1.0  [0.]\n",
      "1.0  [0.]\n",
      "0.0  [1.]\n",
      "0.0  [1.]\n",
      "1.0  [0.]\n",
      "\n",
      "\n",
      "501\n",
      "27/27 [==============================] - 0s 1ms/step\n",
      "accuracy: 0.9929161747343566\n",
      "precision: 0.85\n",
      "recall: 0.85\n",
      "f score: 0.85\n",
      "a  p\n",
      "0.0  [1.]\n",
      "0.0  [1.]\n",
      "1.0  [0.]\n",
      "1.0  [0.]\n",
      "0.0  [1.]\n",
      "1.0  [0.]\n",
      "\n",
      "\n"
     ]
    }
   ],
   "source": [
    "eps = 451\n",
    "# print(val_ds[:,:-1].shape)\n",
    "while eps <= 501:\n",
    "    print(eps)\n",
    "    \n",
    "    model = Sequential()\n",
    "    model.add(Dense(8, activation='relu', input_shape=(np.shape(x)[1],)))\n",
    "    model.add(Dense(4, activation='sigmoid'))\n",
    "    model.add(Dense(1, activation='sigmoid'))\n",
    "    model.compile(loss='binary_crossentropy', optimizer='rmsprop', metrics=['accuracy'])\n",
    "    model.fit(x=train_ds[:,:-1], y=train_ds[:, -1], epochs=eps, verbose=0)\n",
    "    \n",
    "    shuffle(data)\n",
    "    x = data[:,:-1]\n",
    "    y = data[:, -1]\n",
    "    prediction = model.predict(x)\n",
    "    prediction = prediction.round()\n",
    "    print(f\"accuracy: {accuracy_score(y, prediction.round())}\")\n",
    "    print(f\"precision: {precision_score(y, prediction.round())}\")\n",
    "    print(f\"recall: {recall_score(y, prediction.round())}\")\n",
    "    print(f\"f score: {f1_score(y, prediction.round())}\")\n",
    "    print(\"a  p\")\n",
    "    for i in range(len(y)):\n",
    "        if y[i] != prediction[i]: print(f\"{y[i]}  {prediction[i]}\")\n",
    "    print('\\n')\n",
    "    eps += 10\n",
    "\n",
    "# model.save(f\"../../models/v{len(listdir('../../models/'))+1}.h5\")\n",
    "\n",
    "# print(data[1])\n",
    "# print(x.shape)"
   ]
  },
  {
   "cell_type": "code",
   "execution_count": 62,
   "metadata": {},
   "outputs": [
    {
     "name": "stdout",
     "output_type": "stream",
     "text": [
      "INFO:tensorflow:Assets written to: C:\\Users\\ABDUL-~1\\AppData\\Local\\Temp\\tmp1l0a6my3\\assets\n"
     ]
    },
    {
     "name": "stderr",
     "output_type": "stream",
     "text": [
      "INFO:tensorflow:Assets written to: C:\\Users\\ABDUL-~1\\AppData\\Local\\Temp\\tmp1l0a6my3\\assets\n"
     ]
    }
   ],
   "source": [
    "converter = tf.lite.TFLiteConverter.from_keras_model(model)\n",
    "lite_model = converter.convert()\n",
    "lite_model_file_name = f\"../../models/v{len(listdir('../../models/'))}.tflite\"\n",
    "with open(lite_model_file_name, 'wb') as lite_model_file:\n",
    "    lite_model_file.write(lite_model)"
   ]
  },
  {
   "cell_type": "code",
   "execution_count": 126,
   "metadata": {},
   "outputs": [
    {
     "name": "stdout",
     "output_type": "stream",
     "text": [
      "[ 1.47664792 -0.81843003 -0.24064546 -1.0060342  -2.09460557 -0.19160157\n",
      "  0.63636799  1.18621454  0.69165249 -0.11286081  1.25926379  0.68021543\n",
      "  1.03892638  4.44433684  1.90328704 -0.07622051 -0.18665094  0.81687065\n",
      " -0.57704379  0.94894764  1.39128653 -0.53442399 -1.03362154 -0.17675647\n",
      " -1.48266012 -1.69030956 -1.28704562 -0.17835325]\n",
      "[[ 4.66384339e-01 -2.67298222e-01 -2.20462800e-02 -7.20820960e-02\n",
      "  -1.59924522e-01 -1.49051130e-02  4.80952206e+00  9.49521995e-01\n",
      "   6.62669756e-01  7.19155080e-01  2.37417474e-01  2.21459809e-01\n",
      "   2.02881433e-01  1.55715833e+00  1.77645230e+00  4.84781265e-01\n",
      "   1.01849556e+00  2.88939267e-01 -3.10862447e-14  2.82219738e-01\n",
      "   7.24992514e+00 -1.05643654e+00 -1.22277307e+00 -1.12570572e+00\n",
      "  -4.06836241e-01 -5.63217759e-01 -3.56745303e-01  2.32607174e+00]]\n",
      "1/1 [==============================] - 0s 21ms/step\n",
      "[[2.7424972e-38]]\n"
     ]
    }
   ],
   "source": [
    "# shuffle(data)\n",
    "# x = data[:, 3:-1]\n",
    "# y = data[:, -1]\n",
    "copied = [0.466384339, -0.267298222, -0.02204628, -0.072082096, -0.159924522, -0.014905113, 4.809522057, 0.949521995, 0.662669756, 0.71915508, 0.237417474, 0.221459809, 0.202881433, 1.557158332, 1.776452303, 0.484781265, 1.01849556, 0.288939267, 0.0, 0.282219738, 7.249925137, -1.056436539, -1.222773075, -1.125705719, -0.406836241, -0.563217759, -0.356745303, 2.326071739]\n",
    "copied = np.array([copied])\n",
    "# print(any(all(k == copied) for k in x))\n",
    "# x = [copied]\n",
    "copied += abs(xmin)\n",
    "copied -= xmean\n",
    "copied /= xstd\n",
    "print(x[-1])\n",
    "print(copied)\n",
    "# prediction = model.predict(np.array([x[-1]]))\n",
    "prediction = model.predict(copied)\n",
    "print(prediction)\n",
    "# print(prediction[:5].round())\n",
    "# print(y[:5])\n",
    "# print(f\"accuracy: {accuracy_score(y, prediction.round())}\")\n",
    "# print(f\"precision: {precision_score(y, prediction.round())}\")\n",
    "# print(f\"recall: {recall_score(y, prediction.round())}\")\n",
    "# print(f\"f score: {f1_score(y, prediction.round())}\")\n",
    "# prediction = prediction.round()\n",
    "# print(\"a  p\")\n",
    "# for i in range(len(y)):\n",
    "#     if y[i] != prediction[i]: print(f\"{y[i]}  {prediction[i]}\")"
   ]
  },
  {
   "cell_type": "code",
   "execution_count": 65,
   "metadata": {},
   "outputs": [
    {
     "name": "stdout",
     "output_type": "stream",
     "text": [
      "Input shape: [ 1 28]\n",
      "Input Type: <class 'numpy.float32'>\n",
      "Output shape: [1 1]\n",
      "Output Type: <class 'numpy.float32'>\n"
     ]
    }
   ],
   "source": [
    "interpreter = tf.lite.Interpreter(model_path = lite_model_file_name)\n",
    "input_details = interpreter.get_input_details()\n",
    "output_details = interpreter.get_output_details()\n",
    "print(\"Input shape:\", input_details[0][\"shape\"])\n",
    "print(\"Input Type:\", input_details[0][\"dtype\"])\n",
    "print(\"Output shape:\", output_details[0][\"shape\"])\n",
    "print(\"Output Type:\", output_details[0][\"dtype\"])"
   ]
  }
 ],
 "metadata": {
  "kernelspec": {
   "display_name": "Python 3.8.8 ('base')",
   "language": "python",
   "name": "python3"
  },
  "language_info": {
   "codemirror_mode": {
    "name": "ipython",
    "version": 3
   },
   "file_extension": ".py",
   "mimetype": "text/x-python",
   "name": "python",
   "nbconvert_exporter": "python",
   "pygments_lexer": "ipython3",
   "version": "3.8.8"
  },
  "orig_nbformat": 4,
  "vscode": {
   "interpreter": {
    "hash": "42eeaa4fdb12861ad724a34e7176c2f1203bfbb26c72fd015868010e2b3784e5"
   }
  }
 },
 "nbformat": 4,
 "nbformat_minor": 2
}
